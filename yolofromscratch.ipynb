{
 "cells": [
  {
   "cell_type": "markdown",
   "id": "07d4f10f-c369-44cf-91e1-f93ed6fdf07c",
   "metadata": {},
   "source": [
    "source: https://www.youtube.com/watch?v=n9_XyCGr-MI"
   ]
  },
  {
   "cell_type": "markdown",
   "id": "7a85730c-c4c1-4552-94b9-46f2b5ffa9df",
   "metadata": {},
   "source": [
    "Dataset YOLO was trained on \n",
    "- PASCAL VOC Dataset\n",
    "- 20 Classes"
   ]
  },
  {
   "cell_type": "code",
   "execution_count": 1,
   "id": "7b1e7844-973b-4810-be32-1ef3ea6311ea",
   "metadata": {},
   "outputs": [],
   "source": [
    "import torch\n",
    "import torch.nn as nn"
   ]
  },
  {
   "cell_type": "code",
   "execution_count": 2,
   "id": "f904c2c1-45bf-4c9c-bcba-d3739dc48558",
   "metadata": {},
   "outputs": [
    {
     "data": {
      "text/plain": [
       "True"
      ]
     },
     "execution_count": 2,
     "metadata": {},
     "output_type": "execute_result"
    }
   ],
   "source": [
    "torch.cuda.is_available()"
   ]
  },
  {
   "cell_type": "code",
   "execution_count": 3,
   "id": "2e80802a-d071-4fa3-bfdf-9dce126fa5b8",
   "metadata": {},
   "outputs": [],
   "source": [
    "architecture_config = [\n",
    "    (7, 64, 2, 3), # (kernel_size, no_of filters, stride, padding)\n",
    "    \"M\",           # maxpool\n",
    "    (3, 192, 1, 1),\n",
    "    \"M\",\n",
    "    (1, 128, 1, 0),\n",
    "    (3, 256, 1, 1),\n",
    "    (1, 512, 1, 0),\n",
    "    (3, 1024, 1, 1),\n",
    "    \"M\",\n",
    "    [(1, 256, 1, 0),(3, 512, 1, 1), 4],\n",
    "    (1, 512, 1, 0),\n",
    "    (3, 1024, 1, 1),\n",
    "    \"M\",\n",
    "    [(1, 512, 1, 0),(3, 1024, 1, 1), 2],\n",
    "    (3, 1024, 1, 1),\n",
    "    (3, 1024, 2, 1),\n",
    "    (3, 1024, 1, 1),\n",
    "    (3, 1024, 1, 1),   \n",
    "]"
   ]
  },
  {
   "cell_type": "code",
   "execution_count": 4,
   "id": "178161b7-2110-47e3-b996-66af9ad27a43",
   "metadata": {},
   "outputs": [],
   "source": [
    "class CNNBlock(nn.Module):\n",
    "    def __init__(self, in_channels, out_channels, **kwargs):\n",
    "        super().__init__()\n",
    "        self.conv = nn.Conv2d(in_channels, out_channels, bias=False, **kwargs)\n",
    "        self.batchnorm = nn.BatchNorm2d(out_channels)\n",
    "        self.leakyrelu = nn.LeakyReLU(0.1)\n",
    "        \n",
    "    def forward(self, x):\n",
    "        return self.leakyrelu(self.batchnorm(self.conv(x)))"
   ]
  },
  {
   "cell_type": "code",
   "execution_count": 51,
   "id": "202f3377-8033-4758-87a3-6b6a7ac1c50e",
   "metadata": {},
   "outputs": [],
   "source": [
    "class Yolov1(nn.Module):\n",
    "    def __init__(self, in_channels=3, **kwargs):\n",
    "        super().__init__()\n",
    "        self.architecture = architecture_config\n",
    "        self.in_channels = in_channels\n",
    "        self.darknet = self._create_conv_layers(self.architecture)\n",
    "        self.fcs = self._create_fcs(**kwargs)\n",
    "    \n",
    "    def forward(self, x):\n",
    "        x = self.darknet(x)\n",
    "        print(x.shape, \"flattened to :\")\n",
    "        x = torch.flatten(x, start_dim=1)\n",
    "        print(x.shape, \":\")\n",
    "        return self.fcs(x)\n",
    "    \n",
    "    def _create_conv_layers(self, architecture):\n",
    "        \"\"\" This is darknet \"\"\"\n",
    "        layers = []\n",
    "        in_channels = self.in_channels\n",
    "        \n",
    "        for x in architecture:\n",
    "            if type(x) == tuple:\n",
    "                layers += [CNNBlock(\n",
    "                    in_channels, x[1], kernel_size=x[0], stride=x[2], padding=x[3]\n",
    "                )]\n",
    "                \n",
    "                in_channels = x[1]\n",
    "                \n",
    "            elif type(x) == str:\n",
    "                layers += [nn.MaxPool2d(kernel_size=2, stride=2)]\n",
    "                \n",
    "            elif type(x) == list:\n",
    "                conv1 = x[0] # Tuple\n",
    "                conv2 = x[1] # Tuple\n",
    "                num_repeats = x[2] # Integer\n",
    "                \n",
    "                for _ in range(num_repeats):\n",
    "                    layers += [\n",
    "                        CNNBlock(\n",
    "                            in_channels,\n",
    "                            conv1[1],\n",
    "                            kernel_size=conv1[0],\n",
    "                            stride= conv1[2],\n",
    "                            padding=conv1[3]\n",
    "                        )\n",
    "                    ]\n",
    "                    \n",
    "                    layers += [\n",
    "                        CNNBlock(\n",
    "                            conv1[1],\n",
    "                            conv2[1],\n",
    "                            kernel_size=conv2[0],\n",
    "                            stride= conv2[2],\n",
    "                            padding=conv2[3]\n",
    "                        )\n",
    "                    ]\n",
    "                    \n",
    "                    in_channels = conv2[1]\n",
    "                   \n",
    "        return nn.Sequential(*layers)\n",
    "    \n",
    "    def _create_fcs(self, split_size, num_boxes, num_classes):\n",
    "        S , B, C = split_size, num_boxes, num_classes # 7, 2, 20\n",
    "        return nn.Sequential(\n",
    "            nn.Flatten(),\n",
    "            nn.Linear(1024 * S * S, 496), # original paper = 4096\n",
    "            nn.Dropout(0.0),\n",
    "            nn.LeakyReLU(0.1),\n",
    "            nn.Linear(496, S *S *(C + B * 5)), # later reshaped to (S, S, 30)  C+B*5 =30 in loss fn\n",
    "        )\n",
    "    "
   ]
  },
  {
   "cell_type": "code",
   "execution_count": 57,
   "id": "73494b9e-07af-410c-81ad-bc1dd01476ab",
   "metadata": {},
   "outputs": [],
   "source": [
    "def test(S=7, B=2, C=20):\n",
    "    model = Yolov1(split_size=S, num_boxes=B, num_classes=C)\n",
    "    x = torch.randn((2, 3, 448, 448))\n",
    "    op = model(x)\n",
    "    print(op)\n",
    "\n",
    "# test()"
   ]
  },
  {
   "cell_type": "markdown",
   "id": "f95a2ea1-fbea-40c6-a070-eeae740cd9c7",
   "metadata": {},
   "source": [
    "# Loss fn "
   ]
  },
  {
   "cell_type": "code",
   "execution_count": 58,
   "id": "ea2b0c7e-3b64-40ee-bd56-8da744a01e1c",
   "metadata": {},
   "outputs": [],
   "source": [
    "class YoloLoss(nn.Module):\n",
    "    def __init__(self, S=7, B=2, C=20):\n",
    "        super().__init__()\n",
    "        self.mse = nn.MSELoss(reduction=\"sum\")\n",
    "        self.S = S\n",
    "        self.B = B\n",
    "        self.C = C\n",
    "        self.lambda_noobj = 0.5\n",
    "        self.lambda_coord = 5\n",
    "        \n",
    "    def forward(self, predictions, target):\n",
    "        predictions = predictions.reshape(-1, self.S, self.S, self.C + self.B*5)\n",
    "        \n",
    "        iou_b1 = intersection_over_union(predictions[..., 21:25], target[..., 21:25])\n",
    "        iou_b2 = intersection_over_union(predictions[..., 26:30], target[..., 21:25])\n",
    "        \n",
    "        ious = torch.cat([iou_b1.unsqueeze(0), iou_b2.unsqueeze(0)], dim=0)\n",
    "        iou_maxes, best_box = torch.max(ious, dim=0)\n",
    "        \n",
    "        exists_box = target[..., 20].unsqueeze(3) # identity object_i (is there obj in cell i)\n",
    "        \n",
    "        # for box coordinates\n",
    "        box_predictions = exists_box * (\n",
    "            (\n",
    "                best_box * predictions[..., 26:30]\n",
    "                + (1- best_box) * predictions[..., 21:25]\n",
    "            )\n",
    "        )\n",
    "        \n",
    "        box_targets = exists_box * target[..., 21:25]\n",
    "        \n",
    "        box_predictions[..., 2:4] = torch.sign(box_predictions[...,2:4]) * torch.sqrt(torch.abs(box_predictions[..., 2:4] + 1e-6))\n",
    "        \n",
    "        #(N, S, S, 25)\n",
    "        box_targets[..., 2:4] = torch.sqrt(box_targets[..., 2:4])\n",
    "        \n",
    "        #(N, S, S, 4) -> (N *S*S, 4)\n",
    "        box_loss = self.mse(\n",
    "            torch.flatten(box_predictions, end_dim=-2),\n",
    "            torch.flatten(box_targets, end_dim=-2)\n",
    "        )\n",
    "        \n",
    "        # for object loss\n",
    "        \n",
    "        pred_box = (\n",
    "            best_box * predictions[..., 25:26] + (1 - best_box) * predictions[..., 20: 21]\n",
    "        )\n",
    "        \n",
    "        # (N *S*S)\n",
    "        object_loss = self.mse(\n",
    "            torch.flatten(exists_box * pred_box), \n",
    "            torch.flatten(exists_box * target[..., 20:21]), \n",
    "        )\n",
    "        \n",
    "        # for no object loss\n",
    "        \n",
    "         # (N *S*S , 1) ->  # (N, S*S)\n",
    "        no_object_loss = self.mse(\n",
    "            torch.flatten((1-exists_box) * predictions[...,20:21], start_dim=1),\n",
    "            torch.flatten((1-exists_box) * target[...,20:21], start_dim=1)\n",
    "        )\n",
    "        \n",
    "        no_object_loss += self.mse(\n",
    "            torch.flatten((1-exists_box) * predictions[...,25:26], start_dim=1),\n",
    "            torch.flatten((1-exists_box) * target[...,20:21], start_dim=1)\n",
    "        )\n",
    "        \n",
    "        # for class loss\n",
    "        \n",
    "        # (N ,S, S , 20) ->  # (N*S*S, 20)\n",
    "        class_loss = self.mse(\n",
    "            torch.flatten(exists_box * predictions[..., :20], end_dim=-2),\n",
    "            torch.flatten(exists_box * target[..., :20], end_dim=-2),\n",
    "        )\n",
    "        \n",
    "        loss = (\n",
    "            self.lambda_coord * box_loss \n",
    "            + object_loss\n",
    "            + self.lambda_noobj * no_object_loss\n",
    "            + class_loss\n",
    "        )\n",
    "        \n",
    "        return loss"
   ]
  },
  {
   "cell_type": "code",
   "execution_count": null,
   "id": "4065264b-9178-47ba-bb49-c490b0144182",
   "metadata": {},
   "outputs": [],
   "source": [
    "def intersection_over_union():\n",
    "    "
   ]
  }
 ],
 "metadata": {
  "kernelspec": {
   "display_name": "Python 3 (ipykernel)",
   "language": "python",
   "name": "python3"
  },
  "language_info": {
   "codemirror_mode": {
    "name": "ipython",
    "version": 3
   },
   "file_extension": ".py",
   "mimetype": "text/x-python",
   "name": "python",
   "nbconvert_exporter": "python",
   "pygments_lexer": "ipython3",
   "version": "3.10.9"
  }
 },
 "nbformat": 4,
 "nbformat_minor": 5
}
